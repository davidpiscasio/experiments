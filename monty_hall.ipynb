{
 "cells": [
  {
   "cell_type": "markdown",
   "metadata": {},
   "source": [
    "# Monty Hall Problem"
   ]
  },
  {
   "cell_type": "code",
   "execution_count": 3,
   "metadata": {},
   "outputs": [],
   "source": [
    "from random import randint, choice"
   ]
  },
  {
   "cell_type": "code",
   "execution_count": 4,
   "metadata": {},
   "outputs": [],
   "source": [
    "class MontyHall():\n",
    "    def __init__(self, doors):\n",
    "        self.doors = doors\n",
    "\n",
    "    def simulate_game(self, always_change=False, trials=1, verbose=True):\n",
    "        total_stays = 0\n",
    "        total_changed = 0\n",
    "        total_changed_wins = 0\n",
    "        total_stay_wins = 0\n",
    "\n",
    "        for trial in range(trials):\n",
    "            car = randint(1, self.doors)\n",
    "            init = randint(1, self.doors)\n",
    "            remain = randint(1, self.doors)\n",
    "            if init != car:\n",
    "                remain = car\n",
    "            else:\n",
    "                while remain == init: remain = randint(1, self.doors)\n",
    "            final = choice([init, remain]) if not always_change else remain\n",
    "\n",
    "            changed = True if final != init else False\n",
    "            win = True if final == car else False\n",
    "            changed_win = True if changed and win else False\n",
    "            stay_win = True if (not changed) and win else False \n",
    "\n",
    "            total_stays += not changed\n",
    "            total_changed += changed\n",
    "            total_changed_wins += changed_win\n",
    "            total_stay_wins += stay_win\n",
    "\n",
    "            if verbose:\n",
    "                print(f'Trial no. {trial}:')\n",
    "                print(f'Initial choice: {init}', end='; ')\n",
    "                print(f'Remaining door: {remain}', end='; ')\n",
    "                print(f'Final choice: {final}, Car: {car}', end='; ')\n",
    "                outcome = 'Contestant wins' if win else 'Contestant loses'\n",
    "                print(outcome)\n",
    "                \n",
    "        return {'Trials': trials, 'Stays': total_stays, 'Stay Wins': total_stay_wins, 'Changes': total_changed, 'Change Wins': total_changed_wins}"
   ]
  },
  {
   "cell_type": "code",
   "execution_count": 8,
   "metadata": {},
   "outputs": [
    {
     "name": "stdout",
     "output_type": "stream",
     "text": [
      "Trial no. 0:\n",
      "Initial choice: 1; Remaining door: 2; Final choice: 2, Car: 2; Contestant wins\n",
      "Trial no. 1:\n",
      "Initial choice: 3; Remaining door: 2; Final choice: 2, Car: 2; Contestant wins\n",
      "Trial no. 2:\n",
      "Initial choice: 1; Remaining door: 3; Final choice: 3, Car: 3; Contestant wins\n",
      "Trial no. 3:\n",
      "Initial choice: 1; Remaining door: 2; Final choice: 1, Car: 2; Contestant loses\n",
      "Trial no. 4:\n",
      "Initial choice: 3; Remaining door: 1; Final choice: 3, Car: 1; Contestant loses\n",
      "Trial no. 5:\n",
      "Initial choice: 3; Remaining door: 1; Final choice: 1, Car: 1; Contestant wins\n",
      "Trial no. 6:\n",
      "Initial choice: 3; Remaining door: 1; Final choice: 3, Car: 1; Contestant loses\n",
      "Trial no. 7:\n",
      "Initial choice: 2; Remaining door: 1; Final choice: 2, Car: 1; Contestant loses\n",
      "Trial no. 8:\n",
      "Initial choice: 1; Remaining door: 2; Final choice: 2, Car: 2; Contestant wins\n",
      "Trial no. 9:\n",
      "Initial choice: 2; Remaining door: 1; Final choice: 2, Car: 1; Contestant loses\n",
      "{'Trials': 10, 'Stays': 5, 'Stay Wins': 0, 'Changes': 5, 'Change Wins': 5}\n"
     ]
    }
   ],
   "source": [
    "sim = MontyHall(3)\n",
    "results = sim.simulate_game(always_change=False, trials=10, verbose=True)\n",
    "print(results)"
   ]
  },
  {
   "cell_type": "code",
   "execution_count": 9,
   "metadata": {},
   "outputs": [
    {
     "name": "stdout",
     "output_type": "stream",
     "text": [
      "{'Trials': 10000, 'Stays': 4889, 'Stay Wins': 1565, 'Changes': 5111, 'Change Wins': 3394}\n"
     ]
    }
   ],
   "source": [
    "sim = MontyHall(3)\n",
    "results = sim.simulate_game(always_change=False, trials=10000, verbose=False)\n",
    "print(results)"
   ]
  },
  {
   "cell_type": "code",
   "execution_count": 11,
   "metadata": {},
   "outputs": [
    {
     "name": "stdout",
     "output_type": "stream",
     "text": [
      "{'Trials': 10000, 'Stays': 0, 'Stay Wins': 0, 'Changes': 10000, 'Change Wins': 6687}\n"
     ]
    }
   ],
   "source": [
    "sim = MontyHall(3)\n",
    "results = sim.simulate_game(always_change=True, trials=10000, verbose=False)\n",
    "print(results)"
   ]
  },
  {
   "cell_type": "code",
   "execution_count": 12,
   "metadata": {},
   "outputs": [
    {
     "name": "stdout",
     "output_type": "stream",
     "text": [
      "{'Trials': 10000, 'Stays': 4959, 'Stay Wins': 52, 'Changes': 5041, 'Change Wins': 4999}\n"
     ]
    }
   ],
   "source": [
    "sim = MontyHall(100)\n",
    "results = sim.simulate_game(always_change=False, trials=10000, verbose=False)\n",
    "print(results)"
   ]
  },
  {
   "cell_type": "code",
   "execution_count": 13,
   "metadata": {},
   "outputs": [
    {
     "name": "stdout",
     "output_type": "stream",
     "text": [
      "{'Trials': 10000, 'Stays': 0, 'Stay Wins': 0, 'Changes': 10000, 'Change Wins': 9905}\n"
     ]
    }
   ],
   "source": [
    "sim = MontyHall(100)\n",
    "results = sim.simulate_game(always_change=True, trials=10000, verbose=False)\n",
    "print(results)"
   ]
  }
 ],
 "metadata": {
  "kernelspec": {
   "display_name": "Python 3",
   "language": "python",
   "name": "python3"
  },
  "language_info": {
   "codemirror_mode": {
    "name": "ipython",
    "version": 3
   },
   "file_extension": ".py",
   "mimetype": "text/x-python",
   "name": "python",
   "nbconvert_exporter": "python",
   "pygments_lexer": "ipython3",
   "version": "3.10.11"
  }
 },
 "nbformat": 4,
 "nbformat_minor": 2
}
