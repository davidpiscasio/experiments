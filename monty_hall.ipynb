{
 "cells": [
  {
   "cell_type": "markdown",
   "metadata": {},
   "source": [
    "# Monty Hall Problem\n",
    "This experiment simulates the Monty Hall problem to verify that the probability of winning given switching the chosen door is higher. For a more detailed explanation, please check out this [video](https://www.youtube.com/watch?v=4Lb-6rxZxx0)."
   ]
  },
  {
   "cell_type": "code",
   "execution_count": 1,
   "metadata": {},
   "outputs": [],
   "source": [
    "from random import randint, choice"
   ]
  },
  {
   "cell_type": "markdown",
   "metadata": {},
   "source": [
    "In the `MontyHall` class, you may choose to run `simulate_game` to automatically run the simulation across multiple trials. If you wish to try out the game yourself, you may execute the `play_game` function."
   ]
  },
  {
   "cell_type": "code",
   "execution_count": 81,
   "metadata": {},
   "outputs": [],
   "source": [
    "class MontyHall():\n",
    "    def __init__(self, doors):\n",
    "        self.doors = doors\n",
    "        self.total_stays = 0\n",
    "        self.total_changed = 0\n",
    "        self.total_changed_wins = 0\n",
    "        self.total_stay_wins = 0\n",
    "        self.always_change = False\n",
    "        self.verbose = True\n",
    "\n",
    "    def _choose_remain(self, game):\n",
    "        remain = randint(1, self.doors)\n",
    "        if game['init'] != game['car']:\n",
    "            remain = game['car']\n",
    "        else:\n",
    "            while remain == game['init']: remain = randint(1, self.doors)\n",
    "        return remain\n",
    "    \n",
    "    def _verbose(self, game):\n",
    "        print(f'Initial choice: {game[\"init\"]}', end='; ')\n",
    "        print(f'Remaining door: {game[\"remain\"]}', end='; ')\n",
    "        print(f'Final choice: {game[\"final\"]}, Car: {game[\"car\"]}', end='; ')\n",
    "\n",
    "    def simulate_game(self, trials=1, always_change=False, verbose=True):\n",
    "        self.trials = trials\n",
    "        self.always_change = always_change\n",
    "        self.verbose = verbose\n",
    "        for trial in range(trials):\n",
    "            game = {}\n",
    "            game['car'] = randint(1, self.doors)\n",
    "            game['init'] = randint(1, self.doors)\n",
    "            game['remain'] = self._choose_remain(game)\n",
    "            game['final'] = choice([game['init'], game['remain']]) if not always_change else game['remain']\n",
    "\n",
    "            changed = True if game['final'] != game['init'] else False\n",
    "            win = True if game['final'] == game['car'] else False\n",
    "            changed_win = True if changed and win else False\n",
    "            stay_win = True if (not changed) and win else False \n",
    "\n",
    "            self.total_stays += not changed\n",
    "            self.total_changed += changed\n",
    "            self.total_changed_wins += changed_win\n",
    "            self.total_stay_wins += stay_win\n",
    "\n",
    "            if verbose:\n",
    "                print(f'Trial no. {trial}')\n",
    "                self._verbose(game)\n",
    "                print('Contestant wins' if win else 'Contestant loses')\n",
    "                \n",
    "        return {'Trials': self.trials, 'Stays': self.total_stays, 'Stay Wins': self.total_stay_wins, 'Changes': self.total_changed, 'Change Wins': self.total_changed_wins}\n",
    "    \n",
    "    def play_game(self, trials, verbose=True):\n",
    "        self.trials = trials\n",
    "        for trial in range(trials):\n",
    "            game = {}\n",
    "            game['car'] = randint(1, self.doors)\n",
    "            game['init'] = int(input(f'Trial {trial}:\\nChoose a door [1, 2, 3]: '))\n",
    "            game['remain'] = self._choose_remain(game)\n",
    "            final = str.lower(input(f'Opening all other doors except door {game[\"remain\"]}. Switch [s] or Keep [k] your choice? '))\n",
    "            assert final == 's' or final == 'k', 'Choice should either be \\'s\\' for Switch or \\'k\\' for Keep'\n",
    "            game['final'] = game['init'] if final == 'k' else game['remain']\n",
    "            \n",
    "            changed = True if game['final'] != game['init'] else False\n",
    "            win = True if game['final'] == game['car'] else False\n",
    "            changed_win = True if changed and win else False\n",
    "            stay_win = True if (not changed) and win else False \n",
    "\n",
    "            self.total_stays += not changed\n",
    "            self.total_changed += changed\n",
    "            self.total_changed_wins += changed_win\n",
    "            self.total_stay_wins += stay_win\n",
    "\n",
    "            if verbose:\n",
    "                print(f'Trial no. {trial}')\n",
    "                self._verbose(game)\n",
    "                print('Contestant wins' if win else 'Contestant loses')\n",
    "\n",
    "        self.print_results()\n",
    "\n",
    "    def print_results(self):\n",
    "        if self.verbose: print('')\n",
    "        print(f'Results\\nNo. of trials: {self.trials}; Total wins: {self.total_changed_wins + self.total_stay_wins}')\n",
    "        print(f'Choices kept: {self.total_stays}; Kept wins: {self.total_stay_wins}; Probability of win given choice kept: {self.total_stay_wins*100/self.total_stays if self.total_stays else \"N/A\"}%')\n",
    "        print(f'Choices switched: {self.total_changed}; Switched wins: {self.total_changed_wins}; Probability of win given choice switched: {self.total_changed_wins*100/self.total_changed if self.total_changed else \"N/A\"}%')"
   ]
  },
  {
   "cell_type": "markdown",
   "metadata": {},
   "source": [
    "If we simulate the original Monty Hall problem with 3 doors over 10 trials, we see that the probability of winning given that you kept your choice is $25.00\\%$, which is significantly lower than the probability of winning given that you switched choices ($66.67\\%$)."
   ]
  },
  {
   "cell_type": "code",
   "execution_count": 85,
   "metadata": {},
   "outputs": [
    {
     "name": "stdout",
     "output_type": "stream",
     "text": [
      "Trial no. 0\n",
      "Initial choice: 1; Remaining door: 2; Final choice: 2, Car: 2; Contestant wins\n",
      "Trial no. 1\n",
      "Initial choice: 2; Remaining door: 3; Final choice: 3, Car: 2; Contestant loses\n",
      "Trial no. 2\n",
      "Initial choice: 2; Remaining door: 3; Final choice: 3, Car: 3; Contestant wins\n",
      "Trial no. 3\n",
      "Initial choice: 3; Remaining door: 1; Final choice: 1, Car: 1; Contestant wins\n",
      "Trial no. 4\n",
      "Initial choice: 2; Remaining door: 3; Final choice: 2, Car: 3; Contestant loses\n",
      "Trial no. 5\n",
      "Initial choice: 1; Remaining door: 3; Final choice: 1, Car: 1; Contestant wins\n",
      "Trial no. 6\n",
      "Initial choice: 2; Remaining door: 3; Final choice: 3, Car: 2; Contestant loses\n",
      "Trial no. 7\n",
      "Initial choice: 3; Remaining door: 2; Final choice: 3, Car: 2; Contestant loses\n",
      "Trial no. 8\n",
      "Initial choice: 3; Remaining door: 1; Final choice: 3, Car: 1; Contestant loses\n",
      "Trial no. 9\n",
      "Initial choice: 3; Remaining door: 2; Final choice: 2, Car: 2; Contestant wins\n",
      "\n",
      "Results\n",
      "No. of trials: 10; Total wins: 5\n",
      "Choices kept: 4; Kept wins: 1; Probability of win given choice kept: 25.0%\n",
      "Choices switched: 6; Switched wins: 4; Probability of win given choice switched: 66.66666666666667%\n"
     ]
    }
   ],
   "source": [
    "sim = MontyHall(doors=3)\n",
    "results = sim.simulate_game(trials=10)\n",
    "sim.print_results()"
   ]
  },
  {
   "cell_type": "markdown",
   "metadata": {},
   "source": [
    "If we stretch the simulation to 10,000 trials, we see that the probability of winning given that you keep your choice converges to around $33\\%$ and the probability of winning given that you switched your choice converges to $66\\%$, which are the expected conditional probabilities of the problem."
   ]
  },
  {
   "cell_type": "code",
   "execution_count": 86,
   "metadata": {},
   "outputs": [
    {
     "name": "stdout",
     "output_type": "stream",
     "text": [
      "Results\n",
      "No. of trials: 10000; Total wins: 4935\n",
      "Choices kept: 5022; Kept wins: 1638; Probability of win given choice kept: 32.61648745519713%\n",
      "Choices switched: 4978; Switched wins: 3297; Probability of win given choice switched: 66.23141824025713%\n"
     ]
    }
   ],
   "source": [
    "sim = MontyHall(doors=3)\n",
    "results = sim.simulate_game(trials=10000, verbose=False)\n",
    "sim.print_results()"
   ]
  },
  {
   "cell_type": "markdown",
   "metadata": {},
   "source": [
    "This code block can be used if you only want to simulate the switching of doors (the program always chooses to switch doors). We see that the probability still converges to around $66$ to $67\\%$."
   ]
  },
  {
   "cell_type": "code",
   "execution_count": 87,
   "metadata": {},
   "outputs": [
    {
     "name": "stdout",
     "output_type": "stream",
     "text": [
      "Results\n",
      "No. of trials: 10000; Total wins: 6716\n",
      "Choices kept: 0; Kept wins: 0; Probability of win given choice kept: N/A%\n",
      "Choices switched: 10000; Switched wins: 6716; Probability of win given choice switched: 67.16%\n"
     ]
    }
   ],
   "source": [
    "sim = MontyHall(doors=3)\n",
    "results = sim.simulate_game(trials=10000, always_change=True, verbose=False)\n",
    "sim.print_results()"
   ]
  },
  {
   "cell_type": "markdown",
   "metadata": {},
   "source": [
    "If we increase the number of doors to 100, we see that the difference in probabilities becomes even larger. Getting the door right on the first try is a $1/100$ chance, so the probability of the car being on the other doors is $99\\%$. Since the host removes all other doors except one, then the probability of the car being on the other door is still $99\\%$."
   ]
  },
  {
   "cell_type": "code",
   "execution_count": 88,
   "metadata": {},
   "outputs": [
    {
     "name": "stdout",
     "output_type": "stream",
     "text": [
      "Results\n",
      "No. of trials: 10000; Total wins: 5000\n",
      "Choices kept: 4998; Kept wins: 50; Probability of win given choice kept: 1.0004001600640255%\n",
      "Choices switched: 5002; Switched wins: 4950; Probability of win given choice switched: 98.96041583366653%\n"
     ]
    }
   ],
   "source": [
    "sim = MontyHall(doors=100)\n",
    "results = sim.simulate_game(trials=10000, verbose=False)\n",
    "sim.print_results()"
   ]
  },
  {
   "cell_type": "markdown",
   "metadata": {},
   "source": [
    "If we choose to always switch choices, we win around $99\\%$ of the time in 10,000 trials."
   ]
  },
  {
   "cell_type": "code",
   "execution_count": 89,
   "metadata": {},
   "outputs": [
    {
     "name": "stdout",
     "output_type": "stream",
     "text": [
      "Results\n",
      "No. of trials: 10000; Total wins: 9905\n",
      "Choices kept: 0; Kept wins: 0; Probability of win given choice kept: N/A%\n",
      "Choices switched: 10000; Switched wins: 9905; Probability of win given choice switched: 99.05%\n"
     ]
    }
   ],
   "source": [
    "sim = MontyHall(doors=100)\n",
    "results = sim.simulate_game(trials=10000, always_change=True, verbose=False)\n",
    "sim.print_results()"
   ]
  },
  {
   "cell_type": "markdown",
   "metadata": {},
   "source": [
    "If you wish to play the game yourself, you may run this code block."
   ]
  },
  {
   "cell_type": "code",
   "execution_count": 90,
   "metadata": {},
   "outputs": [
    {
     "name": "stdout",
     "output_type": "stream",
     "text": [
      "Trial no. 0\n",
      "Initial choice: 1; Remaining door: 3; Final choice: 1, Car: 3; Contestant loses\n",
      "Trial no. 1\n",
      "Initial choice: 2; Remaining door: 1; Final choice: 2, Car: 2; Contestant wins\n",
      "Trial no. 2\n",
      "Initial choice: 3; Remaining door: 2; Final choice: 2, Car: 2; Contestant wins\n",
      "Trial no. 3\n",
      "Initial choice: 2; Remaining door: 3; Final choice: 3, Car: 3; Contestant wins\n",
      "Trial no. 4\n",
      "Initial choice: 1; Remaining door: 2; Final choice: 2, Car: 2; Contestant wins\n",
      "\n",
      "Results\n",
      "No. of trials: 5; Total wins: 4\n",
      "Choices kept: 2; Kept wins: 1; Probability of win given choice kept: 50.0%\n",
      "Choices switched: 3; Switched wins: 3; Probability of win given choice switched: 100.0%\n"
     ]
    }
   ],
   "source": [
    "sim = MontyHall(doors=3)\n",
    "sim.play_game(trials=5)"
   ]
  }
 ],
 "metadata": {
  "kernelspec": {
   "display_name": "Python 3",
   "language": "python",
   "name": "python3"
  },
  "language_info": {
   "codemirror_mode": {
    "name": "ipython",
    "version": 3
   },
   "file_extension": ".py",
   "mimetype": "text/x-python",
   "name": "python",
   "nbconvert_exporter": "python",
   "pygments_lexer": "ipython3",
   "version": "3.10.11"
  }
 },
 "nbformat": 4,
 "nbformat_minor": 2
}
