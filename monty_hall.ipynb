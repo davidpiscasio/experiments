{
 "cells": [
  {
   "cell_type": "markdown",
   "metadata": {},
   "source": [
    "# Monty Hall Problem"
   ]
  },
  {
   "cell_type": "code",
   "execution_count": 3,
   "metadata": {},
   "outputs": [],
   "source": [
    "from random import randint, choice"
   ]
  },
  {
   "cell_type": "code",
   "execution_count": 4,
   "metadata": {},
   "outputs": [],
   "source": [
    "class MontyHall():\n",
    "    def __init__(self, doors):\n",
    "        self.doors = doors\n",
    "\n",
    "    def simulate_game(self, always_change=False, trials=1, verbose=True):\n",
    "        total_stays = 0\n",
    "        total_changed = 0\n",
    "        total_changed_wins = 0\n",
    "        total_stay_wins = 0\n",
    "\n",
    "        for trial in range(trials):\n",
    "            car = randint(1, self.doors)\n",
    "            init = randint(1, self.doors)\n",
    "            remain = randint(1, self.doors)\n",
    "            if init != car:\n",
    "                remain = car\n",
    "            else:\n",
    "                while remain == init: remain = randint(1, self.doors)\n",
    "            final = choice([init, remain]) if not always_change else remain\n",
    "\n",
    "            changed = True if final != init else False\n",
    "            win = True if final == car else False\n",
    "            changed_win = True if changed and win else False\n",
    "            stay_win = True if (not changed) and win else False \n",
    "\n",
    "            total_stays += not changed\n",
    "            total_changed += changed\n",
    "            total_changed_wins += changed_win\n",
    "            total_stay_wins += stay_win\n",
    "\n",
    "            if verbose:\n",
    "                print(f'Trial no. {trial}:')\n",
    "                print(f'Initial choice: {init}', end='; ')\n",
    "                print(f'Remaining door: {remain}', end='; ')\n",
    "                print(f'Final choice: {final}, Car: {car}', end='; ')\n",
    "                outcome = 'Contestant wins' if win else 'Contestant loses'\n",
    "                print(outcome)\n",
    "                \n",
    "        return {'Trials': trials, 'Stays': total_stays, 'Stay Wins': total_stay_wins, 'Changes': total_changed, 'Change Wins': total_changed_wins}"
   ]
  },
  {
   "cell_type": "code",
   "execution_count": 14,
   "metadata": {},
   "outputs": [
    {
     "name": "stdout",
     "output_type": "stream",
     "text": [
      "Trial no. 0:\n",
      "Initial choice: 3; Remaining door: 1; Final choice: 1, Car: 3; Contestant loses\n",
      "Trial no. 1:\n",
      "Initial choice: 3; Remaining door: 1; Final choice: 3, Car: 3; Contestant wins\n",
      "Trial no. 2:\n",
      "Initial choice: 3; Remaining door: 1; Final choice: 3, Car: 3; Contestant wins\n",
      "Trial no. 3:\n",
      "Initial choice: 1; Remaining door: 2; Final choice: 1, Car: 1; Contestant wins\n",
      "Trial no. 4:\n",
      "Initial choice: 2; Remaining door: 3; Final choice: 2, Car: 2; Contestant wins\n",
      "Trial no. 5:\n",
      "Initial choice: 3; Remaining door: 1; Final choice: 3, Car: 1; Contestant loses\n",
      "Trial no. 6:\n",
      "Initial choice: 1; Remaining door: 2; Final choice: 2, Car: 2; Contestant wins\n",
      "Trial no. 7:\n",
      "Initial choice: 2; Remaining door: 1; Final choice: 2, Car: 1; Contestant loses\n",
      "Trial no. 8:\n",
      "Initial choice: 1; Remaining door: 3; Final choice: 1, Car: 3; Contestant loses\n",
      "Trial no. 9:\n",
      "Initial choice: 1; Remaining door: 2; Final choice: 2, Car: 1; Contestant loses\n",
      "{'Trials': 10, 'Stays': 7, 'Stay Wins': 4, 'Changes': 3, 'Change Wins': 1}\n"
     ]
    }
   ],
   "source": [
    "sim = MontyHall(doors=3)\n",
    "results = sim.simulate_game(always_change=False, trials=10, verbose=True)\n",
    "print(results)"
   ]
  },
  {
   "cell_type": "code",
   "execution_count": 15,
   "metadata": {},
   "outputs": [
    {
     "name": "stdout",
     "output_type": "stream",
     "text": [
      "{'Trials': 10000, 'Stays': 4997, 'Stay Wins': 1659, 'Changes': 5003, 'Change Wins': 3361}\n"
     ]
    }
   ],
   "source": [
    "sim = MontyHall(doors=3)\n",
    "results = sim.simulate_game(always_change=False, trials=10000, verbose=False)\n",
    "print(results)"
   ]
  },
  {
   "cell_type": "code",
   "execution_count": 16,
   "metadata": {},
   "outputs": [
    {
     "name": "stdout",
     "output_type": "stream",
     "text": [
      "{'Trials': 10000, 'Stays': 0, 'Stay Wins': 0, 'Changes': 10000, 'Change Wins': 6760}\n"
     ]
    }
   ],
   "source": [
    "sim = MontyHall(doors=3)\n",
    "results = sim.simulate_game(always_change=True, trials=10000, verbose=False)\n",
    "print(results)"
   ]
  },
  {
   "cell_type": "code",
   "execution_count": 17,
   "metadata": {},
   "outputs": [
    {
     "name": "stdout",
     "output_type": "stream",
     "text": [
      "{'Trials': 10000, 'Stays': 4904, 'Stay Wins': 52, 'Changes': 5096, 'Change Wins': 5038}\n"
     ]
    }
   ],
   "source": [
    "sim = MontyHall(doors=100)\n",
    "results = sim.simulate_game(always_change=False, trials=10000, verbose=False)\n",
    "print(results)"
   ]
  },
  {
   "cell_type": "code",
   "execution_count": 18,
   "metadata": {},
   "outputs": [
    {
     "name": "stdout",
     "output_type": "stream",
     "text": [
      "{'Trials': 10000, 'Stays': 0, 'Stay Wins': 0, 'Changes': 10000, 'Change Wins': 9923}\n"
     ]
    }
   ],
   "source": [
    "sim = MontyHall(doors=100)\n",
    "results = sim.simulate_game(always_change=True, trials=10000, verbose=False)\n",
    "print(results)"
   ]
  }
 ],
 "metadata": {
  "kernelspec": {
   "display_name": "Python 3",
   "language": "python",
   "name": "python3"
  },
  "language_info": {
   "codemirror_mode": {
    "name": "ipython",
    "version": 3
   },
   "file_extension": ".py",
   "mimetype": "text/x-python",
   "name": "python",
   "nbconvert_exporter": "python",
   "pygments_lexer": "ipython3",
   "version": "3.10.11"
  }
 },
 "nbformat": 4,
 "nbformat_minor": 2
}
